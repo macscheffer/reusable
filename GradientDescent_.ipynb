{
  "nbformat": 4,
  "nbformat_minor": 0,
  "metadata": {
    "colab": {
      "name": "GradientDescent_",
      "version": "0.3.2",
      "provenance": [],
      "include_colab_link": true
    },
    "kernelspec": {
      "name": "python3",
      "display_name": "Python 3"
    }
  },
  "cells": [
    {
      "cell_type": "markdown",
      "metadata": {
        "id": "view-in-github",
        "colab_type": "text"
      },
      "source": [
        "<a href=\"https://colab.research.google.com/github/macscheffer/reusable/blob/master/GradientDescent_.ipynb\" target=\"_parent\"><img src=\"https://colab.research.google.com/assets/colab-badge.svg\" alt=\"Open In Colab\"/></a>"
      ]
    },
    {
      "metadata": {
        "id": "K5iz7cALGRpM",
        "colab_type": "code",
        "colab": {}
      },
      "cell_type": "code",
      "source": [
        "import math"
      ],
      "execution_count": 0,
      "outputs": []
    },
    {
      "metadata": {
        "id": "KKWe9JZfR4rg",
        "colab_type": "code",
        "colab": {}
      },
      "cell_type": "code",
      "source": [
        "def GdRegression(X, y, theta, iters, alpha):\n",
        "    n = X.shape[0] # num observations\n",
        "    m = X.shape[1] # num features\n",
        "    \n",
        "    theta = np.array([theta])\n",
        "    \n",
        "    # add col of ones\n",
        "    X = np.c_[np.ones(X.shape[0]), X]\n",
        "    \n",
        "    costs = []\n",
        "    for i in range(iters):\n",
        "        predict = X @ theta.T\n",
        "        error = predict - y\n",
        "        msse = np.sum(error**2) / (2 * n)\n",
        "        costs.append(msse)\n",
        "        \n",
        "        theta = theta - (alpha / m) * np.sum(X * error, axis=0)\n",
        "        \n",
        "    return theta, costs\n"
      ],
      "execution_count": 0,
      "outputs": []
    },
    {
      "metadata": {
        "id": "um_b4w0GV3Xp",
        "colab_type": "text"
      },
      "cell_type": "markdown",
      "source": [
        "#**Predict using random starting coefficents**\n",
        "#**Calculate our cost**\n",
        "#**Get The Average Slope of our Cost**\n",
        "#**Scale them by learning rate**\n",
        "#**Subtract the errors from our weights(coefficients)**"
      ]
    },
    {
      "metadata": {
        "id": "lC1LKuh9ISBS",
        "colab_type": "code",
        "colab": {}
      },
      "cell_type": "code",
      "source": [
        "\n",
        "\n",
        "def sigmoid(x):\n",
        "  # takes a real value as an input and outputs another value between 0 and 1.\n",
        "  return 1 / (1 + math.exp(-x))\n",
        "\n",
        "\n",
        "def predict(X, w):\n",
        "  \n",
        "  # X for features\n",
        "  # w for weights/probabilities\n",
        "  \n",
        "  z = np.dot(X, w)\n",
        "  return sigmoid(z)\n",
        "\n",
        "\n",
        "def get_cost(X, w, y):\n",
        "  # y for target values.\n",
        "  \n",
        "  predictions = predict(X, w)\n",
        "  \n",
        "  label0_cost = (1-y) * np.log(1-predictions)\n",
        "  label1_cost = -y*np.log(predictions)\n",
        "  \n",
        "  cost = (sum(label0_cost) + sum(label1_cost)) / len(y)\n",
        "  \n",
        "  return cost\n",
        "\n",
        "\n",
        "def update_coeff(X, y, w, learning_rate):\n",
        "  \n",
        "  predictions = predict(X, w)\n",
        "  \n",
        "  # getting partial derivatives for each feature\n",
        "  # which represents the slope of the cost function at each value\n",
        "  \n",
        "  gradient = np.dot(X.T, predictions - y)\n",
        "  \n",
        "  # returns a (len(features), 1) matrix\n",
        "  # the one is the average cost derivative for the respective feature\n",
        "  \n",
        "  gradient /= N\n",
        "  \n",
        "  gradient *= learning_rate\n",
        "  \n",
        "  weights -= gradient\n",
        "  \n",
        "  return weights\n",
        "\n",
        "\n",
        "def decision_limit(prob):\n",
        "  return 1 if prob >= .5 else 0\n",
        "\n"
      ],
      "execution_count": 0,
      "outputs": []
    },
    {
      "metadata": {
        "id": "8oAK71dxJNu9",
        "colab_type": "code",
        "colab": {
          "base_uri": "https://localhost:8080/",
          "height": 34
        },
        "outputId": "543f2e3d-bcf9-47f5-8d92-91eef0525cfb"
      },
      "cell_type": "code",
      "source": [
        ""
      ],
      "execution_count": 8,
      "outputs": [
        {
          "output_type": "execute_result",
          "data": {
            "text/plain": [
              "-0.0"
            ]
          },
          "metadata": {
            "tags": []
          },
          "execution_count": 8
        }
      ]
    },
    {
      "metadata": {
        "id": "7eQIJSGbUX1U",
        "colab_type": "code",
        "colab": {}
      },
      "cell_type": "code",
      "source": [
        ""
      ],
      "execution_count": 0,
      "outputs": []
    }
  ]
}